{
  "cells": [
    {
      "cell_type": "markdown",
      "metadata": {
        "id": "I9j3-ytWkwzq"
      },
      "source": [
        "# 1. 환경 설정 및 데이터 불러오기  \n",
        "\n",
        "🔹 **핵심 라이브러리**  \n",
        "- `pandas` : 표 형태의 데이터를 다루는 핵심 라이브러리 (**별칭 → `pd`**)  \n",
        "- `seaborn` : 데이터 시각화 라이브러리이자, **유명한 예제 데이터 셋** 포함  \n",
        "\n",
        "🔹 **Colab에서 데이터 로딩 방법**  \n",
        "- 로컬 파일(`d:/data/iris.csv`) 직접 로드는 **Colab에서 번거로움**  \n",
        "- ✅ 대신 `seaborn` 내장 데이터 셋 활용 → 어떤 환경에서도 동일 실행 가능  \n",
        "- → **재현성(Repeatability)** 확보 & **좋은 실습 습관**"
      ]
    },
    {
      "cell_type": "code",
      "execution_count": 1,
      "metadata": {
        "id": "jtgBG413kwRN"
      },
      "outputs": [],
      "source": [
        "# 데이터 분석의 핵심 라이브러리 pandas를 pd라는 별칭으로 불러옵니다.\n",
        "import pandas as pd\n",
        "# 데이터 시각화 및 예제 데이터셋 로드를 위한 seaborn 라이브러리를 sns라는 별칭으로 불러옵니다.\n",
        "import seaborn as sns"
      ]
    },
    {
      "cell_type": "code",
      "execution_count": 2,
      "metadata": {
        "id": "wQi7PFa3DAHV"
      },
      "outputs": [],
      "source": [
        "# seaborn 라이브러리에 내장된 iris 데이터셋을 DataFrame 형태로 불러옵니다.\n",
        "# Colab 환경에서는 이 방식이 파일 경로 문제 없이 가장 편리하고 재현성이 높습니다.\n",
        "df = sns.load_dataset('iris')"
      ]
    },
    {
      "cell_type": "code",
      "execution_count": 3,
      "metadata": {
        "id": "xyKyk3XBDGfc"
      },
      "outputs": [
        {
          "data": {
            "text/html": [
              "<div>\n",
              "<style scoped>\n",
              "    .dataframe tbody tr th:only-of-type {\n",
              "        vertical-align: middle;\n",
              "    }\n",
              "\n",
              "    .dataframe tbody tr th {\n",
              "        vertical-align: top;\n",
              "    }\n",
              "\n",
              "    .dataframe thead th {\n",
              "        text-align: right;\n",
              "    }\n",
              "</style>\n",
              "<table border=\"1\" class=\"dataframe\">\n",
              "  <thead>\n",
              "    <tr style=\"text-align: right;\">\n",
              "      <th></th>\n",
              "      <th>sepal_length</th>\n",
              "      <th>sepal_width</th>\n",
              "      <th>petal_length</th>\n",
              "      <th>petal_width</th>\n",
              "      <th>species</th>\n",
              "    </tr>\n",
              "  </thead>\n",
              "  <tbody>\n",
              "    <tr>\n",
              "      <th>0</th>\n",
              "      <td>5.1</td>\n",
              "      <td>3.5</td>\n",
              "      <td>1.4</td>\n",
              "      <td>0.2</td>\n",
              "      <td>setosa</td>\n",
              "    </tr>\n",
              "    <tr>\n",
              "      <th>1</th>\n",
              "      <td>4.9</td>\n",
              "      <td>3.0</td>\n",
              "      <td>1.4</td>\n",
              "      <td>0.2</td>\n",
              "      <td>setosa</td>\n",
              "    </tr>\n",
              "    <tr>\n",
              "      <th>2</th>\n",
              "      <td>4.7</td>\n",
              "      <td>3.2</td>\n",
              "      <td>1.3</td>\n",
              "      <td>0.2</td>\n",
              "      <td>setosa</td>\n",
              "    </tr>\n",
              "    <tr>\n",
              "      <th>3</th>\n",
              "      <td>4.6</td>\n",
              "      <td>3.1</td>\n",
              "      <td>1.5</td>\n",
              "      <td>0.2</td>\n",
              "      <td>setosa</td>\n",
              "    </tr>\n",
              "    <tr>\n",
              "      <th>4</th>\n",
              "      <td>5.0</td>\n",
              "      <td>3.6</td>\n",
              "      <td>1.4</td>\n",
              "      <td>0.2</td>\n",
              "      <td>setosa</td>\n",
              "    </tr>\n",
              "  </tbody>\n",
              "</table>\n",
              "</div>"
            ],
            "text/plain": [
              "   sepal_length  sepal_width  petal_length  petal_width species\n",
              "0           5.1          3.5           1.4          0.2  setosa\n",
              "1           4.9          3.0           1.4          0.2  setosa\n",
              "2           4.7          3.2           1.3          0.2  setosa\n",
              "3           4.6          3.1           1.5          0.2  setosa\n",
              "4           5.0          3.6           1.4          0.2  setosa"
            ]
          },
          "execution_count": 3,
          "metadata": {},
          "output_type": "execute_result"
        }
      ],
      "source": [
        "# 데이터가 잘 불러와졌는지 첫 5개 행을 확인합니다.\n",
        "df.head()"
      ]
    },
    {
      "cell_type": "markdown",
      "metadata": {
        "id": "FtOGvdYJliZK"
      },
      "source": [
        "# 2. 데이터 훑어보기 (Data Exploration)  \n",
        "\n",
        "데이터를 분석하기 전, **데이터의 생김새를 파악**하는 것은 매우 중요합니다.  \n",
        "👉 마치 요리를 시작하기 전, **재료 상태를 확인하는 과정**과 같습니다.  \n",
        "\n",
        "🔹 **주요 탐색 함수**  \n",
        "- `df.info()` : 전체적인 요약 정보 (행 개수, non-null 수, 데이터 타입 등)  \n",
        "- `df.shape` : 데이터프레임의 **형태(행, 열)** 확인  \n",
        "- `df.dtypes` : 각 컬럼의 **데이터 타입** 확인  \n",
        "- `df.columns` : **컬럼 이름** 목록 확인  \n",
        "- `df.head()` / `df.tail()` : 데이터 **앞/뒤 일부 미리보기**  \n",
        "- `df['컬럼명'].unique()` : 특정 컬럼의 **고윳값(unique values)** 확인 (범주형 데이터 확인 시 유용)  "
      ]
    },
    {
      "cell_type": "code",
      "execution_count": 4,
      "metadata": {
        "id": "C1wNHpsYltAF"
      },
      "outputs": [
        {
          "name": "stdout",
          "output_type": "stream",
          "text": [
            "--- df.info() ---\n",
            "<class 'pandas.core.frame.DataFrame'>\n",
            "RangeIndex: 150 entries, 0 to 149\n",
            "Data columns (total 5 columns):\n",
            " #   Column        Non-Null Count  Dtype  \n",
            "---  ------        --------------  -----  \n",
            " 0   sepal_length  150 non-null    float64\n",
            " 1   sepal_width   150 non-null    float64\n",
            " 2   petal_length  150 non-null    float64\n",
            " 3   petal_width   150 non-null    float64\n",
            " 4   species       150 non-null    object \n",
            "dtypes: float64(4), object(1)\n",
            "memory usage: 6.0+ KB\n"
          ]
        }
      ],
      "source": [
        "# df.info(): 데이터프레임의 전반적인 정보를 요약합니다.\n",
        "# 각 컬럼의 이름, non-null 데이터 개수, 데이터 타입을 한눈에 파악할 수 있습니다.\n",
        "print(\"--- df.info() ---\")\n",
        "df.info()"
      ]
    },
    {
      "cell_type": "code",
      "execution_count": 5,
      "metadata": {
        "id": "gQqqGJthDNfd"
      },
      "outputs": [
        {
          "name": "stdout",
          "output_type": "stream",
          "text": [
            "\n",
            "--- df.shape ---\n",
            "데이터 형태: (150, 5)\n",
            "총 행의 개수: 150\n",
            "총 열(컬럼)의 개수: 5\n"
          ]
        }
      ],
      "source": [
        "# df.shape: 데이터프레임의 (행, 열) 개수를 튜플로 반환합니다.\n",
        "print(\"\\n--- df.shape ---\")\n",
        "print(f\"데이터 형태: {df.shape}\")\n",
        "print(f\"총 행의 개수: {df.shape[0]}\")\n",
        "print(f\"총 열(컬럼)의 개수: {df.shape[1]}\")"
      ]
    },
    {
      "cell_type": "code",
      "execution_count": 6,
      "metadata": {
        "id": "BGnuvbUQDNo7"
      },
      "outputs": [
        {
          "name": "stdout",
          "output_type": "stream",
          "text": [
            "\n",
            "--- df.dtypes (변경 전) ---\n",
            "sepal_length    float64\n",
            "sepal_width     float64\n",
            "petal_length    float64\n",
            "petal_width     float64\n",
            "species          object\n",
            "dtype: object\n"
          ]
        }
      ],
      "source": [
        "# df.dtypes: 각 컬럼의 데이터 타입을 확인합니다.\n",
        "# object는 보통 문자열을 의미합니다.\n",
        "print(\"\\n--- df.dtypes (변경 전) ---\")\n",
        "print(df.dtypes)"
      ]
    },
    {
      "cell_type": "code",
      "execution_count": 7,
      "metadata": {
        "id": "EWhhfaGiDNwC"
      },
      "outputs": [
        {
          "name": "stdout",
          "output_type": "stream",
          "text": [
            "\n",
            "--- df.dtypes (변경 후) ---\n",
            "sepal_length     float64\n",
            "sepal_width      float64\n",
            "petal_length     float64\n",
            "petal_width      float64\n",
            "species         category\n",
            "dtype: object\n"
          ]
        }
      ],
      "source": [
        "# 'species' 컬럼은 종류를 나타내는 범주형 데이터이므로, 'category' 타입으로 변경해주는 것이\n",
        "# 메모리 효율 및 분석에 용이합니다. .astype() 함수를 사용합니다.\n",
        "df['species'] = df['species'].astype('category')\n",
        "print(\"\\n--- df.dtypes (변경 후) ---\")\n",
        "print(df.dtypes)"
      ]
    },
    {
      "cell_type": "code",
      "execution_count": 8,
      "metadata": {
        "id": "tJnkEb0ODN2G"
      },
      "outputs": [
        {
          "name": "stdout",
          "output_type": "stream",
          "text": [
            "\n",
            "--- df.columns ---\n",
            "Index(['sepal_length', 'sepal_width', 'petal_length', 'petal_width',\n",
            "       'species'],\n",
            "      dtype='object')\n"
          ]
        }
      ],
      "source": [
        "# df.columns: 데이터프레임의 모든 컬럼 이름을 확인합니다.\n",
        "print(\"\\n--- df.columns ---\")\n",
        "print(df.columns)"
      ]
    },
    {
      "cell_type": "code",
      "execution_count": 9,
      "metadata": {
        "id": "EBfh3J2LDN9F"
      },
      "outputs": [
        {
          "name": "stdout",
          "output_type": "stream",
          "text": [
            "\n",
            "--- df.head() ---\n",
            "   sepal_length  sepal_width  petal_length  petal_width species\n",
            "0           5.1          3.5           1.4          0.2  setosa\n",
            "1           4.9          3.0           1.4          0.2  setosa\n",
            "2           4.7          3.2           1.3          0.2  setosa\n",
            "3           4.6          3.1           1.5          0.2  setosa\n",
            "4           5.0          3.6           1.4          0.2  setosa\n"
          ]
        }
      ],
      "source": [
        "# df.head(n): 데이터의 첫 n개 행을 보여줍니다. (기본값 n=5)\n",
        "print(\"\\n--- df.head() ---\")\n",
        "print(df.head())"
      ]
    },
    {
      "cell_type": "code",
      "execution_count": 10,
      "metadata": {
        "id": "xgV-giI-DODG"
      },
      "outputs": [
        {
          "name": "stdout",
          "output_type": "stream",
          "text": [
            "\n",
            "--- df.tail() ---\n",
            "     sepal_length  sepal_width  petal_length  petal_width    species\n",
            "145           6.7          3.0           5.2          2.3  virginica\n",
            "146           6.3          2.5           5.0          1.9  virginica\n",
            "147           6.5          3.0           5.2          2.0  virginica\n",
            "148           6.2          3.4           5.4          2.3  virginica\n",
            "149           5.9          3.0           5.1          1.8  virginica\n"
          ]
        }
      ],
      "source": [
        "# df.tail(n): 데이터의 마지막 n개 행을 보여줍니다. (기본값 n=5)\n",
        "print(\"\\n--- df.tail() ---\")\n",
        "print(df.tail())"
      ]
    },
    {
      "cell_type": "code",
      "execution_count": 11,
      "metadata": {
        "id": "fsRwiTYBDOKF"
      },
      "outputs": [
        {
          "name": "stdout",
          "output_type": "stream",
          "text": [
            "\n",
            "--- df['species'].unique() ---\n",
            "['setosa', 'versicolor', 'virginica']\n",
            "Categories (3, object): ['setosa', 'versicolor', 'virginica']\n"
          ]
        }
      ],
      "source": [
        "# 'species' 컬럼에 어떤 종류의 붓꽃이 있는지 고윳값을 확인합니다.\n",
        "print(\"\\n--- df['species'].unique() ---\")\n",
        "print(df['species'].unique())"
      ]
    },
    {
      "cell_type": "markdown",
      "metadata": {
        "id": "mH6GJn2jl2mA"
      },
      "source": [
        "# 3. 데이터 추출하기 (Indexing & Slicing)  \n",
        "\n",
        "데이터프레임에서 원하는 **특정 부분만 선택**하거나, **구간을 잘라내는 기술**입니다.  \n",
        "👉 Pandas에서는 크게 두 가지 방법을 사용합니다.  \n",
        "\n",
        "🔹 **`iloc[]` (Integer-location based)**  \n",
        "- **숫자 인덱스** 기반 데이터 추출  \n",
        "- `df.iloc[행_숫자, 열_숫자]` 형태 사용 (0부터 시작)  \n",
        "- 예시: 엑셀에서 **\"5행 3열\"**을 숫자로 지정하는 방식  \n",
        "\n",
        "🔹 **`loc[]` (Label-based)**  \n",
        "- **이름(Label)** 기반 데이터 추출  \n",
        "- `df.loc[행_이름, 열_이름]` 형태 사용  \n",
        "- 예시: 엑셀에서 **\"Petal_Width 열의 3번 행\"**처럼 이름으로 접근하는 방식  "
      ]
    },
    {
      "cell_type": "code",
      "execution_count": 12,
      "metadata": {
        "id": "eVYMmRpcl5-k"
      },
      "outputs": [
        {
          "name": "stdout",
          "output_type": "stream",
          "text": [
            "iloc[2, 3] 값: 0.2\n"
          ]
        }
      ],
      "source": [
        "# iloc: [행 인덱스 숫자, 열 인덱스 숫자]\n",
        "# 2번 행, 3번 열에 있는 값을 추출 (0부터 시작)\n",
        "value_iloc = df.iloc[2, 3]\n",
        "print(f\"iloc[2, 3] 값: {value_iloc}\")"
      ]
    },
    {
      "cell_type": "code",
      "execution_count": 13,
      "metadata": {
        "id": "6BYZln6UDigI"
      },
      "outputs": [
        {
          "name": "stdout",
          "output_type": "stream",
          "text": [
            "loc[3, 'petal_width'] 값: 0.2\n"
          ]
        }
      ],
      "source": [
        "# loc: [행 인덱스 이름, 열 이름]\n",
        "# 3번 행의 'petal_width' 컬럼 값을 추출\n",
        "value_loc = df.loc[3, 'petal_width']\n",
        "print(f\"loc[3, 'petal_width'] 값: {value_loc}\")"
      ]
    },
    {
      "cell_type": "code",
      "execution_count": 14,
      "metadata": {
        "id": "NePE-oQ-DinY"
      },
      "outputs": [
        {
          "name": "stdout",
          "output_type": "stream",
          "text": [
            "\n",
            "--- 여러 행/열 추출 ---\n",
            "   petal_length  petal_width\n",
            "0           1.4          0.2\n",
            "2           1.3          0.2\n",
            "4           1.4          0.2\n"
          ]
        }
      ],
      "source": [
        "# 여러 행과 열을 동시에 추출하기\n",
        "# 0, 2, 4번 행의 'petal_length', 'petal_width' 컬럼을 추출\n",
        "subset1 = df.loc[[0, 2, 4], ['petal_length', 'petal_width']]\n",
        "print(\"\\n--- 여러 행/열 추출 ---\")\n",
        "print(subset1)"
      ]
    },
    {
      "cell_type": "code",
      "execution_count": 15,
      "metadata": {
        "id": "9Ppmx3VUDitl"
      },
      "outputs": [
        {
          "name": "stdout",
          "output_type": "stream",
          "text": [
            "\n",
            "--- loc 슬라이싱 ---\n",
            "5    1.7\n",
            "6    1.4\n",
            "7    1.5\n",
            "8    1.4\n",
            "Name: petal_length, dtype: float64\n"
          ]
        }
      ],
      "source": [
        "# 슬라이싱으로 특정 범위 추출하기\n",
        "# 5번부터 8번 행의 'petal_length' 컬럼 값을 추출 (loc는 끝번호 포함!)\n",
        "subset2 = df.loc[5:8, 'petal_length']\n",
        "print(\"\\n--- loc 슬라이싱 ---\")\n",
        "print(subset2)"
      ]
    },
    {
      "cell_type": "code",
      "execution_count": 16,
      "metadata": {
        "id": "F1fQkRL_Diz5"
      },
      "outputs": [
        {
          "name": "stdout",
          "output_type": "stream",
          "text": [
            "\n",
            "--- iloc 슬라이싱 ---\n",
            "   sepal_length  sepal_width  petal_length  petal_width\n",
            "0           5.1          3.5           1.4          0.2\n",
            "1           4.9          3.0           1.4          0.2\n",
            "2           4.7          3.2           1.3          0.2\n",
            "3           4.6          3.1           1.5          0.2\n",
            "4           5.0          3.6           1.4          0.2\n"
          ]
        }
      ],
      "source": [
        "# 0번부터 4번 행, 0번부터 3번 열을 추출 (iloc는 끝번호 미포함!)\n",
        "subset3 = df.iloc[:5, :4]\n",
        "print(\"\\n--- iloc 슬라이싱 ---\")\n",
        "print(subset3)"
      ]
    },
    {
      "cell_type": "code",
      "execution_count": 17,
      "metadata": {
        "id": "RFYhIDtKDi6I"
      },
      "outputs": [],
      "source": [
        "# 특정 컬럼 전체를 선택하는 여러 방법\n",
        "# 세 가지 방법 모두 동일한 결과를 반환합니다.\n",
        "col1 = df.loc[:, 'petal_length'] # loc 사용\n",
        "col2 = df['petal_length']       # 딕셔너리 형태 (가장 일반적)\n",
        "col3 = df.petal_length          # 객체 속성 형태 (컬럼명에 특수문자나 띄어쓰기 없어야 함)"
      ]
    },
    {
      "cell_type": "code",
      "execution_count": 18,
      "metadata": {
        "id": "jZfeKTTeDjAf"
      },
      "outputs": [
        {
          "name": "stdout",
          "output_type": "stream",
          "text": [
            "\n",
            "--- 행 전체 슬라이싱 ---\n",
            "   sepal_length  sepal_width  petal_length  petal_width species\n",
            "0           5.1          3.5           1.4          0.2  setosa\n",
            "1           4.9          3.0           1.4          0.2  setosa\n",
            "2           4.7          3.2           1.3          0.2  setosa\n",
            "3           4.6          3.1           1.5          0.2  setosa\n",
            "4           5.0          3.6           1.4          0.2  setosa\n"
          ]
        }
      ],
      "source": [
        "# 특정 행 전체를 선택하는 방법\n",
        "# 0번부터 4번 행까지의 모든 컬럼을 선택\n",
        "row1 = df.iloc[:5, :]\n",
        "row2 = df.iloc[:5] # 모든 컬럼을 선택할 경우 컬럼 부분 생략 가능\n",
        "print(\"\\n--- 행 전체 슬라이싱 ---\")\n",
        "print(row2)"
      ]
    },
    {
      "cell_type": "markdown",
      "metadata": {
        "id": "mN0QfqG0mAKI"
      },
      "source": [
        "# 4. 조건에 맞는 데이터만 골라내기 (Conditional Selection)  \n",
        "\n",
        "데이터 분석의 꽃 🌸 → **특정 조건을 만족하는 데이터만 필터링**하는 기능  \n",
        "\n",
        "🔹 **Boolean Indexing**  \n",
        "- 조건식 예: `df['컬럼명'] >= 6.5`  \n",
        "- 결과: 각 행마다 `True` / `False` 값을 가지는 **Series** 반환  \n",
        "- 이 Series를 `df.loc[]` 안에 넣으면 → `True`인 행만 필터링됨  \n",
        "- 👉 이것이 **Boolean Indexing의 원리**  \n",
        "\n",
        "🔹 **다중 조건 결합**  \n",
        "- `&` (AND) : 두 조건이 **모두 True**여야 함  \n",
        "- `|` (OR) : 두 조건 중 **하나라도 True**면 됨  \n",
        "- ⚠️ **주의:** 조건식은 반드시 소괄호 `()`로 묶어야 함  \n",
        "  - ✅ `(df.col1 > 10) & (df.col2 < 5)`  \n",
        "  - ❌ `df.col1 > 10 & df.col2 < 5` → 에러 발생  "
      ]
    },
    {
      "cell_type": "code",
      "execution_count": 19,
      "metadata": {
        "id": "159Rjz83mBIP"
      },
      "outputs": [
        {
          "name": "stdout",
          "output_type": "stream",
          "text": [
            "--- 꽃잎 길이 >= 6.5 ---\n",
            "     sepal_length  sepal_width  petal_length  petal_width    species\n",
            "105           7.6          3.0           6.6          2.1  virginica\n",
            "117           7.7          3.8           6.7          2.2  virginica\n",
            "118           7.7          2.6           6.9          2.3  virginica\n",
            "122           7.7          2.8           6.7          2.0  virginica\n"
          ]
        }
      ],
      "source": [
        "# 꽃잎의 길이(petal_length)가 6.5 이상인 행들의 모든 컬럼을 보이시오\n",
        "# df.petal_length >= 6.5 가 boolean Series를 생성하고, loc가 True인 행만 선택\n",
        "condition1 = df.loc[df.petal_length >= 6.5, :]\n",
        "# 모든 컬럼을 선택할 경우 컬럼 인덱스는 생략 가능\n",
        "condition2 = df.loc[df.petal_length >= 6.5]\n",
        "print(\"--- 꽃잎 길이 >= 6.5 ---\")\n",
        "print(condition2.head())"
      ]
    },
    {
      "cell_type": "code",
      "execution_count": 20,
      "metadata": {
        "id": "sRDc_cJMDwlY"
      },
      "outputs": [
        {
          "name": "stdout",
          "output_type": "stream",
          "text": [
            "\n",
            "--- 해당 조건의 인덱스 ---\n",
            "Index([105, 117, 118, 122], dtype='int64')\n"
          ]
        }
      ],
      "source": [
        "# 꽃잎의 길이가 6.5 이상인 행들의 인덱스 번호를 보이시오\n",
        "indices = df.loc[df.petal_length >= 6.5].index\n",
        "print(\"\\n--- 해당 조건의 인덱스 ---\")\n",
        "print(indices)"
      ]
    },
    {
      "cell_type": "code",
      "execution_count": 21,
      "metadata": {
        "id": "mziWTIHsDws2"
      },
      "outputs": [
        {
          "name": "stdout",
          "output_type": "stream",
          "text": [
            "\n",
            "--- 꽃잎 길이 3.5 ~ 3.8 ---\n",
            "    sepal_length  sepal_width  petal_length  petal_width     species\n",
            "60           5.0          2.0           3.5          1.0  versicolor\n",
            "64           5.6          2.9           3.6          1.3  versicolor\n",
            "79           5.7          2.6           3.5          1.0  versicolor\n",
            "80           5.5          2.4           3.8          1.1  versicolor\n",
            "81           5.5          2.4           3.7          1.0  versicolor\n"
          ]
        }
      ],
      "source": [
        "# 꽃잎의 길이가 3.5 ~ 3.8 사이인 행들의 모든 컬럼을 보이시오\n",
        "# 각 조건문을 반드시 소괄호 ()로 묶어야 합니다.\n",
        "between_condition = df.loc[(df.petal_length >= 3.5) & (df.petal_length <= 3.8)]\n",
        "print(\"\\n--- 꽃잎 길이 3.5 ~ 3.8 ---\")\n",
        "print(between_condition)"
      ]
    },
    {
      "cell_type": "code",
      "execution_count": 22,
      "metadata": {
        "id": "LuNcfiouDwzZ"
      },
      "outputs": [
        {
          "name": "stdout",
          "output_type": "stream",
          "text": [
            "\n",
            "--- 꽃잎 길이 < 1.3 또는 > 6.5 ---\n",
            "     petal_length  petal_width\n",
            "13            1.1          0.1\n",
            "14            1.2          0.2\n",
            "22            1.0          0.2\n",
            "35            1.2          0.2\n",
            "105           6.6          2.1\n",
            "117           6.7          2.2\n",
            "118           6.9          2.3\n",
            "122           6.7          2.0\n"
          ]
        }
      ],
      "source": [
        "# 꽃잎의 길이가 1.3 미만이거나 6.5를 초과하는 행들의 'petal_length'와 'petal_width'를 보이시오\n",
        "or_condition = df.loc[(df.petal_length < 1.3) | (df.petal_length > 6.5), ['petal_length', 'petal_width']]\n",
        "print(\"\\n--- 꽃잎 길이 < 1.3 또는 > 6.5 ---\")\n",
        "print(or_condition)"
      ]
    },
    {
      "cell_type": "code",
      "execution_count": 23,
      "metadata": {
        "id": "4i9tA9aNDw6f"
      },
      "outputs": [
        {
          "name": "stdout",
          "output_type": "stream",
          "text": [
            "\n",
            "--- where() 사용 ---\n",
            "     sepal_length  sepal_width  petal_length  petal_width    species\n",
            "105           7.6          3.0           6.6          2.1  virginica\n",
            "117           7.7          3.8           6.7          2.2  virginica\n",
            "118           7.7          2.6           6.9          2.3  virginica\n",
            "122           7.7          2.8           6.7          2.0  virginica\n"
          ]
        }
      ],
      "source": [
        "# where()를 이용한 조건 검색: 조건에 맞지 않는 값은 NaN(결측치)으로 표시\n",
        "# dropna()를 붙여주면 결측치 행을 제거하므로 loc와 동일한 결과를 얻을 수 있음\n",
        "where_condition = df.where(df.petal_length >= 6.5).dropna()\n",
        "print(\"\\n--- where() 사용 ---\")\n",
        "print(where_condition.head())"
      ]
    },
    {
      "cell_type": "markdown",
      "metadata": {
        "id": "HIuv0AqimJHr"
      },
      "source": [
        "# 5. 데이터 연산 및 변형 (Operations & Transformation)  \n",
        "\n",
        "🔹 **Vectorized Operations (벡터화 연산)**  \n",
        "- Pandas의 가장 큰 장점 중 하나  \n",
        "- 반복문 없이 **컬럼 전체에 대해 산술 연산** 수행 가능  \n",
        "- 예시: `df['컬럼명'] + 10` → 해당 컬럼의 모든 값에 **10이 더해진 결과** 반환  \n",
        "- ✅ 빠르고 효율적인 연산 방식  \n",
        "\n",
        "🔹 **`apply()` 메소드**  \n",
        "- 단순 산술 연산을 넘어 **복잡한 로직** 적용 가능  \n",
        "- **사용자 정의 함수**나 조건부 로직을 컬럼 전체에 적용  \n",
        "- `lambda` 함수와 함께 사용하면 → **한 줄로 간결하게 구현** 가능  "
      ]
    },
    {
      "cell_type": "code",
      "execution_count": 24,
      "metadata": {
        "id": "lw5cNyVGmIGS"
      },
      "outputs": [],
      "source": [
        "# 'species' 컬럼을 제외한 모든 숫자형 컬럼 선택하기\n",
        "# 방법 1: df.columns 비교\n",
        "numeric_df = df.loc[:, df.columns != 'species']\n",
        "# 방법 2: isin() 함수 사용 (여러 개 제외 시 유용)\n",
        "numeric_df2 = df.loc[:, ~df.columns.isin(['species'])]"
      ]
    },
    {
      "cell_type": "code",
      "execution_count": 25,
      "metadata": {
        "id": "YRZfbKd3D7SD"
      },
      "outputs": [
        {
          "name": "stdout",
          "output_type": "stream",
          "text": [
            "--- 모든 값에 10 더하기 ---\n",
            "   sepal_length  sepal_width  petal_length  petal_width\n",
            "0          15.1         13.5          11.4         10.2\n",
            "1          14.9         13.0          11.4         10.2\n",
            "2          14.7         13.2          11.3         10.2\n",
            "3          14.6         13.1          11.5         10.2\n",
            "4          15.0         13.6          11.4         10.2\n"
          ]
        }
      ],
      "source": [
        "# 모든 숫자 값에 10을 더하기 (벡터화 연산)\n",
        "added_df = numeric_df + 10\n",
        "print(\"--- 모든 값에 10 더하기 ---\")\n",
        "print(added_df.head())"
      ]
    },
    {
      "cell_type": "code",
      "execution_count": 26,
      "metadata": {
        "id": "I6MTonHyD7Yx"
      },
      "outputs": [
        {
          "name": "stdout",
          "output_type": "stream",
          "text": [
            "\n",
            "--- 두 컬럼의 합 ---\n",
            "0    6.5\n",
            "1    6.3\n",
            "2    6.0\n",
            "3    6.1\n",
            "4    6.4\n",
            "dtype: float64\n"
          ]
        }
      ],
      "source": [
        "# 두 컬럼의 같은 행 값들끼리 연산\n",
        "sepal_petal_sum = df['sepal_length'] + df['petal_length']\n",
        "print(\"\\n--- 두 컬럼의 합 ---\")\n",
        "print(sepal_petal_sum.head())"
      ]
    },
    {
      "cell_type": "code",
      "execution_count": 27,
      "metadata": {
        "id": "PDr7UclsD7fM"
      },
      "outputs": [],
      "source": [
        "# apply와 lambda를 이용한 조건부 연산\n",
        "# 꽃잎의 길이가 5 이상인 경우에는 -1을, 5 미만인 경우에는 1을 곱하는 값을 생성\n",
        "# tmp 시리즈는 각 행의 petal_length가 5 이상이면 -1, 아니면 1의 값을 가짐\n",
        "tmp = df['petal_length'].apply(lambda x: -1 if x >= 5 else 1)"
      ]
    },
    {
      "cell_type": "code",
      "execution_count": 28,
      "metadata": {
        "id": "0hziyEMTD7mv"
      },
      "outputs": [
        {
          "name": "stdout",
          "output_type": "stream",
          "text": [
            "\n",
            "--- 조건부 연산 결과 ---\n",
            "0    1.4\n",
            "1    1.4\n",
            "2    1.3\n",
            "3    1.5\n",
            "4    1.4\n",
            "Name: petal_length, dtype: float64\n"
          ]
        }
      ],
      "source": [
        "# 원본 petal_length에 tmp를 곱하여 조건부로 부호를 변경\n",
        "conditional_mult = df['petal_length'] * tmp\n",
        "print(\"\\n--- 조건부 연산 결과 ---\")\n",
        "print(conditional_mult.head())"
      ]
    },
    {
      "cell_type": "markdown",
      "metadata": {
        "id": "1GM_pEcumO7K"
      },
      "source": [
        "# 6. 데이터 요약하기 (Descriptive Statistics)  \n",
        "\n",
        "데이터의 특징을 파악하기 위해 **기본적인 통계량**을 계산  \n",
        "\n",
        "🔹 **주요 통계 함수**  \n",
        "- `sum()` : 합계  \n",
        "- `mean()` : 평균  \n",
        "- `median()` : 중앙값  \n",
        "- `max()` / `min()` : 최댓값 / 최솟값  \n",
        "- `std()` / `var()` : 표준편차 / 분산  \n",
        "- `describe()` : **매우 중요!**  \n",
        "  - 숫자형 컬럼들의 주요 통계량을 한 번에 요약  \n",
        "  - (개수, 평균, 표준편차, 최소/최대, 사분위수)"
      ]
    },
    {
      "cell_type": "code",
      "execution_count": 29,
      "metadata": {
        "id": "2yIMhpy_mTN2"
      },
      "outputs": [
        {
          "name": "stdout",
          "output_type": "stream",
          "text": [
            "--- 컬럼별 합계 (sum) ---\n",
            "sepal_length    876.5\n",
            "sepal_width     458.6\n",
            "petal_length    563.7\n",
            "petal_width     179.9\n",
            "dtype: float64\n",
            "\n",
            "--- 컬럼별 평균 (mean) ---\n",
            "sepal_length    5.843333\n",
            "sepal_width     3.057333\n",
            "petal_length    3.758000\n",
            "petal_width     1.199333\n",
            "dtype: float64\n"
          ]
        }
      ],
      "source": [
        "# 숫자형 컬럼만 다시 추출\n",
        "df2 = df.loc[:, df.columns != 'species']\n",
        "\n",
        "print(\"--- 컬럼별 합계 (sum) ---\")\n",
        "print(df2.sum())\n",
        "print(\"\\n--- 컬럼별 평균 (mean) ---\")\n",
        "print(df2.mean())"
      ]
    },
    {
      "cell_type": "code",
      "execution_count": 30,
      "metadata": {
        "id": "Cqu6zcvNEDbJ"
      },
      "outputs": [
        {
          "name": "stdout",
          "output_type": "stream",
          "text": [
            "\n",
            "--- 기초 통계 정보 요약 (describe) ---\n",
            "       sepal_length  sepal_width  petal_length  petal_width\n",
            "count    150.000000   150.000000    150.000000   150.000000\n",
            "mean       5.843333     3.057333      3.758000     1.199333\n",
            "std        0.828066     0.435866      1.765298     0.762238\n",
            "min        4.300000     2.000000      1.000000     0.100000\n",
            "25%        5.100000     2.800000      1.600000     0.300000\n",
            "50%        5.800000     3.000000      4.350000     1.300000\n",
            "75%        6.400000     3.300000      5.100000     1.800000\n",
            "max        7.900000     4.400000      6.900000     2.500000\n"
          ]
        }
      ],
      "source": [
        "# describe(): 숫자형 컬럼들의 핵심 통계 정보를 한눈에 보여주는 가장 유용한 함수\n",
        "print(\"\\n--- 기초 통계 정보 요약 (describe) ---\")\n",
        "print(df2.describe())"
      ]
    },
    {
      "cell_type": "markdown",
      "metadata": {
        "id": "IMB9eff0meI-"
      },
      "source": [
        "# 7. 데이터 수정, 추가, 삭제 (Modification, Addition, Deletion)  \n",
        "\n",
        "데이터프레임의 **구조나 값**을 직접 변경하는 방법  \n",
        "👉 원본 보존을 위해 `.copy()` 사용 습관 권장  \n",
        "\n",
        "🔹 **값 수정**  \n",
        "- `loc` 또는 `iloc`로 위치 지정 후 새로운 값 할당  \n",
        "- 예: `df.loc[행, 열] = 새로운값`  \n",
        "\n",
        "🔹 **행/열 추가**  \n",
        "- **열 추가** : `df['새컬럼명'] = 값`  \n",
        "- **행 추가** : `.loc[새인덱스]` 로 추가  \n",
        "  - 또는 `pd.concat` 으로 데이터프레임 합치기  \n",
        "\n",
        "🔹 **행/열 삭제**  \n",
        "- `.drop()` 메소드 사용  \n",
        "- `index=` 또는 `columns=` 인자 지정 후 삭제  "
      ]
    },
    {
      "cell_type": "code",
      "execution_count": 31,
      "metadata": {
        "id": "jXWd5m3Ame7X"
      },
      "outputs": [],
      "source": [
        "# 원본 데이터 보존을 위해 데이터프레임을 복사해서 사용합니다.\n",
        "df3 = df.copy()"
      ]
    },
    {
      "cell_type": "code",
      "execution_count": 32,
      "metadata": {
        "id": "kbaNTSD7EJaj"
      },
      "outputs": [
        {
          "name": "stdout",
          "output_type": "stream",
          "text": [
            "--- 값 수정 후 1번 행 ---\n",
            "sepal_length       4.9\n",
            "sepal_width        3.0\n",
            "petal_length       1.1\n",
            "petal_width        0.2\n",
            "species         setosa\n",
            "Name: 1, dtype: object\n"
          ]
        }
      ],
      "source": [
        "# 값 수정\n",
        "# 1번 행, 2번 열의 값을 5.5로 수정\n",
        "df3.iloc[1, 2] = 5.5\n",
        "# 1번 행의 'petal_length' 컬럼 값을 1.1로 수정\n",
        "df3.loc[1, 'petal_length'] = 1.1\n",
        "print(\"--- 값 수정 후 1번 행 ---\")\n",
        "print(df3.iloc[1])"
      ]
    },
    {
      "cell_type": "code",
      "execution_count": 50,
      "metadata": {
        "id": "_SU1NIVFEJfo"
      },
      "outputs": [
        {
          "name": "stdout",
          "output_type": "stream",
          "text": [
            "\n",
            "--- 조건부 값 수정 후 (꽃잎 길이 > 6.5) ---\n",
            "     sepal_length  sepal_width  sepal_area  petal_length  petal_width  \\\n",
            "0             5.1          3.5       17.85           1.4          0.2   \n",
            "1             4.9          3.0       14.70           1.1          0.2   \n",
            "2             4.7          3.2       15.04           1.3          0.2   \n",
            "3             4.6          3.1       14.26           1.5          0.2   \n",
            "4             5.0          3.6       18.00           1.4          0.2   \n",
            "..            ...          ...         ...           ...          ...   \n",
            "147           6.3          2.5       15.75           5.0          1.9   \n",
            "148           6.5          3.0       19.50           5.2          2.0   \n",
            "149           6.2          3.4       21.08           5.4          2.3   \n",
            "150           5.9          3.0       17.70           5.1          1.8   \n",
            "151           1.1          4.5        4.95           3.4          2.2   \n",
            "\n",
            "       species  petal_area  \n",
            "0       setosa        0.28  \n",
            "1       setosa        0.22  \n",
            "2       setosa        0.26  \n",
            "3       setosa        0.30  \n",
            "4       setosa        0.28  \n",
            "..         ...         ...  \n",
            "147  virginica        9.50  \n",
            "148  virginica       10.40  \n",
            "149  virginica       12.42  \n",
            "150  virginica        9.18  \n",
            "151     setosa        7.48  \n",
            "\n",
            "[152 rows x 7 columns]\n"
          ]
        }
      ],
      "source": [
        "# 조건에 맞는 여러 값 동시에 수정\n",
        "# 꽃잎 길이가 6.5보다 큰 행들의 petal_length 값에 100을 곱함\n",
        "df3.loc[df3.petal_length > 6.5, 'petal_length'] *= 100\n",
        "print(\"\\n--- 조건부 값 수정 후 (꽃잎 길이 > 6.5) ---\")\n",
        "print(df3)"
      ]
    },
    {
      "cell_type": "code",
      "execution_count": 34,
      "metadata": {
        "id": "MPaHvX9MEJkZ"
      },
      "outputs": [
        {
          "name": "stdout",
          "output_type": "stream",
          "text": [
            "\n",
            "--- 맨 뒤에 행 추가 후 ---\n",
            "     sepal_length  sepal_width  petal_length  petal_width    species\n",
            "146           6.3          2.5           5.0          1.9  virginica\n",
            "147           6.5          3.0           5.2          2.0  virginica\n",
            "148           6.2          3.4           5.4          2.3  virginica\n",
            "149           5.9          3.0           5.1          1.8  virginica\n",
            "150           1.1          4.5           3.4          2.2     setosa\n"
          ]
        }
      ],
      "source": [
        "#--- 행 추가 ---\n",
        "# 맨 뒤에 새로운 행 추가\n",
        "new_idx = df3.shape[0] # 현재 행의 개수를 새 인덱스로 사용\n",
        "df3.loc[new_idx] = [1.1, 4.5, 3.4, 2.2, 'setosa']\n",
        "print(\"\\n--- 맨 뒤에 행 추가 후 ---\")\n",
        "print(df3.tail())"
      ]
    },
    {
      "cell_type": "code",
      "execution_count": 35,
      "metadata": {
        "id": "dVBqEX70EJpZ"
      },
      "outputs": [],
      "source": [
        "# 중간에 새로운 행 추가 (pd.concat 사용)\n",
        "new_row = pd.DataFrame([[1.1, 2.2, 3.3, 4.4, 'virginica']], columns=df3.columns)\n",
        "# 10번 행 앞에 새 행을 삽입\n",
        "df3 = pd.concat([df3.iloc[:10], new_row, df3.iloc[10:]], ignore_index=True)"
      ]
    },
    {
      "cell_type": "code",
      "execution_count": 36,
      "metadata": {
        "id": "RoIIYT8dEJuY"
      },
      "outputs": [
        {
          "name": "stdout",
          "output_type": "stream",
          "text": [
            "\n",
            "--- 열 추가 후 ---\n",
            "   sepal_length  sepal_width  petal_length  petal_width species  petal_area\n",
            "0           5.1          3.5           1.4          0.2  setosa        0.28\n",
            "1           4.9          3.0           1.1          0.2  setosa        0.22\n",
            "2           4.7          3.2           1.3          0.2  setosa        0.26\n",
            "3           4.6          3.1           1.5          0.2  setosa        0.30\n",
            "4           5.0          3.6           1.4          0.2  setosa        0.28\n"
          ]
        }
      ],
      "source": [
        "#--- 열 추가 ---\n",
        "# 맨 뒤에 새로운 열 추가\n",
        "df3['petal_area'] = df3['petal_length'] * df3['petal_width']\n",
        "print(\"\\n--- 열 추가 후 ---\")\n",
        "print(df3.head())"
      ]
    },
    {
      "cell_type": "code",
      "execution_count": 37,
      "metadata": {
        "id": "9k-vT-HqEJzx"
      },
      "outputs": [
        {
          "name": "stdout",
          "output_type": "stream",
          "text": [
            "\n",
            "--- 중간에 열 추가 후 ---\n",
            "   sepal_length  sepal_width  sepal_area  petal_length  petal_width species  \\\n",
            "0           5.1          3.5       17.85           1.4          0.2  setosa   \n",
            "1           4.9          3.0       14.70           1.1          0.2  setosa   \n",
            "2           4.7          3.2       15.04           1.3          0.2  setosa   \n",
            "3           4.6          3.1       14.26           1.5          0.2  setosa   \n",
            "4           5.0          3.6       18.00           1.4          0.2  setosa   \n",
            "\n",
            "   petal_area  \n",
            "0        0.28  \n",
            "1        0.22  \n",
            "2        0.26  \n",
            "3        0.30  \n",
            "4        0.28  \n"
          ]
        }
      ],
      "source": [
        "# 중간에 새로운 열 추가 (insert 사용)\n",
        "# 2번 인덱스 위치에 'sepal_area'라는 이름의 새 컬럼을 추가\n",
        "df3.insert(loc=2, column='sepal_area', value=df3['sepal_length'] * df3['sepal_width'])\n",
        "print(\"\\n--- 중간에 열 추가 후 ---\")\n",
        "print(df3.head())"
      ]
    },
    {
      "cell_type": "code",
      "execution_count": 38,
      "metadata": {
        "id": "oQWD3CZWEJ5i"
      },
      "outputs": [],
      "source": [
        "#--- 행/열 삭제 ---\n",
        "df5 = df.copy()\n",
        "# 행 삭제 (1번, 3번 인덱스)\n",
        "df5 = df5.drop(index=[1, 3])"
      ]
    },
    {
      "cell_type": "code",
      "execution_count": 39,
      "metadata": {
        "id": "e3Q4Kcc7EJ-0"
      },
      "outputs": [],
      "source": [
        "# 인덱스를 삭제하면 중간이 비게 되므로, 인덱스를 재정렬해주는 것이 좋음\n",
        "df5 = df5.reset_index(drop=True) # drop=True는 기존 인덱스를 버리라는 의미"
      ]
    },
    {
      "cell_type": "code",
      "execution_count": 40,
      "metadata": {
        "id": "oPUluvG8EKGN"
      },
      "outputs": [
        {
          "name": "stdout",
          "output_type": "stream",
          "text": [
            "\n",
            "--- 행/열 삭제 후 ---\n",
            "   sepal_length  sepal_width  petal_width species\n",
            "0           5.1          3.5          0.2  setosa\n",
            "1           4.7          3.2          0.2  setosa\n",
            "2           5.0          3.6          0.2  setosa\n",
            "3           5.4          3.9          0.4  setosa\n",
            "4           4.6          3.4          0.3  setosa\n"
          ]
        }
      ],
      "source": [
        "# 열 삭제 ('petal_length' 컬럼)\n",
        "df5 = df5.drop(columns='petal_length')\n",
        "print(\"\\n--- 행/열 삭제 후 ---\")\n",
        "print(df5.head())"
      ]
    },
    {
      "cell_type": "markdown",
      "metadata": {
        "id": "iYIwbfWYCc0o"
      },
      "source": [
        "# 생각해 보기\n",
        "\n",
        "🔹 배운 내용을 바탕으로, 아래 문제들을 직접 코드로 수정/작성해 보세요!\n",
        "\n",
        "### 🌸 Iris 데이터 변수 설명\n",
        "\n",
        "| 변수명         | 의미                          | 데이터 유형   |\n",
        "|----------------|-------------------------------|---------------|\n",
        "| sepal_length   | 꽃받침의 길이 (cm)            | float (연속형) |\n",
        "| sepal_width    | 꽃받침의 너비 (cm)            | float (연속형) |\n",
        "| petal_length   | 꽃잎의 길이 (cm)              | float (연속형) |\n",
        "| petal_width    | 꽃잎의 너비 (cm)              | float (연속형) |\n",
        "| species        | 붓꽃의 품종 (setosa 등 3종류) | object (범주형) |\n",
        "\n",
        "---\n",
        "\n",
        "### 1. 특정 품종의 '왕' 붓꽃 찾기  \n",
        "- 기존: 꽃잎 길이(`petal_length`)가 6.5 이상인 데이터 필터링  \n",
        "- 질문: `'virginica' 품종`이면서 동시에 꽃잎 길이가 6.5 이상인 데이터만 찾으려면?  \n",
        "- 힌트: `&` 연산자로 조건을 결합해 보세요."
      ]
    },
    {
      "cell_type": "code",
      "execution_count": 41,
      "metadata": {},
      "outputs": [
        {
          "name": "stdout",
          "output_type": "stream",
          "text": [
            "\n",
            "--- 1번 답안 ---\n"
          ]
        },
        {
          "data": {
            "text/html": [
              "<div>\n",
              "<style scoped>\n",
              "    .dataframe tbody tr th:only-of-type {\n",
              "        vertical-align: middle;\n",
              "    }\n",
              "\n",
              "    .dataframe tbody tr th {\n",
              "        vertical-align: top;\n",
              "    }\n",
              "\n",
              "    .dataframe thead th {\n",
              "        text-align: right;\n",
              "    }\n",
              "</style>\n",
              "<table border=\"1\" class=\"dataframe\">\n",
              "  <thead>\n",
              "    <tr style=\"text-align: right;\">\n",
              "      <th></th>\n",
              "      <th>sepal_length</th>\n",
              "      <th>sepal_width</th>\n",
              "      <th>petal_length</th>\n",
              "      <th>petal_width</th>\n",
              "      <th>species</th>\n",
              "    </tr>\n",
              "  </thead>\n",
              "  <tbody>\n",
              "    <tr>\n",
              "      <th>105</th>\n",
              "      <td>7.6</td>\n",
              "      <td>3.0</td>\n",
              "      <td>6.6</td>\n",
              "      <td>2.1</td>\n",
              "      <td>virginica</td>\n",
              "    </tr>\n",
              "    <tr>\n",
              "      <th>117</th>\n",
              "      <td>7.7</td>\n",
              "      <td>3.8</td>\n",
              "      <td>6.7</td>\n",
              "      <td>2.2</td>\n",
              "      <td>virginica</td>\n",
              "    </tr>\n",
              "    <tr>\n",
              "      <th>118</th>\n",
              "      <td>7.7</td>\n",
              "      <td>2.6</td>\n",
              "      <td>6.9</td>\n",
              "      <td>2.3</td>\n",
              "      <td>virginica</td>\n",
              "    </tr>\n",
              "    <tr>\n",
              "      <th>122</th>\n",
              "      <td>7.7</td>\n",
              "      <td>2.8</td>\n",
              "      <td>6.7</td>\n",
              "      <td>2.0</td>\n",
              "      <td>virginica</td>\n",
              "    </tr>\n",
              "  </tbody>\n",
              "</table>\n",
              "</div>"
            ],
            "text/plain": [
              "     sepal_length  sepal_width  petal_length  petal_width    species\n",
              "105           7.6          3.0           6.6          2.1  virginica\n",
              "117           7.7          3.8           6.7          2.2  virginica\n",
              "118           7.7          2.6           6.9          2.3  virginica\n",
              "122           7.7          2.8           6.7          2.0  virginica"
            ]
          },
          "execution_count": 41,
          "metadata": {},
          "output_type": "execute_result"
        }
      ],
      "source": [
        "print(\"\\n--- 1번 답안 ---\")\n",
        "df.loc[(df.petal_length >= 6.5) & (df.species == 'virginica')]"
      ]
    },
    {
      "cell_type": "markdown",
      "metadata": {
        "id": "9j9ZBlJfCmy1"
      },
      "source": [
        "### 2. 품종별 능력치 비교하기  \n",
        "- 기존: `df.describe()` → 전체 붓꽃의 평균, 표준편차 확인  \n",
        "- 질문: 품종(`species`)별로 통계치를 따로 비교하려면?  \n",
        "- 힌트: `groupby()` 함수를 활용해 보세요.\n",
        "- **groupby()** : 특정 열 기준으로 데이터를 묶어 통계 계산 → 예) df.groupby(\"col\").mean()\n"
      ]
    },
    {
      "cell_type": "code",
      "execution_count": 42,
      "metadata": {
        "id": "yPwhH0dUCpz5"
      },
      "outputs": [
        {
          "name": "stdout",
          "output_type": "stream",
          "text": [
            "\n",
            "--- 2번 답안 ---\n",
            "\n",
            "--- 종별 평균 ---\n",
            "            sepal_length  sepal_width  petal_length  petal_width\n",
            "species                                                         \n",
            "setosa             5.006        3.428         1.462        0.246\n",
            "versicolor         5.936        2.770         4.260        1.326\n",
            "virginica          6.588        2.974         5.552        2.026\n",
            "\n",
            "--- 종별 표준편차 ---\n",
            "            sepal_length  sepal_width  petal_length  petal_width\n",
            "species                                                         \n",
            "setosa          0.352490     0.379064      0.173664     0.105386\n",
            "versicolor      0.516171     0.313798      0.469911     0.197753\n",
            "virginica       0.635880     0.322497      0.551895     0.274650\n"
          ]
        },
        {
          "name": "stderr",
          "output_type": "stream",
          "text": [
            "C:\\Users\\Public\\Documents\\ESTsoft\\CreatorTemp\\ipykernel_22420\\1039312808.py:2: FutureWarning: The default of observed=False is deprecated and will be changed to True in a future version of pandas. Pass observed=False to retain current behavior or observed=True to adopt the future default and silence this warning.\n",
            "  species_mean = df.groupby('species').mean()\n",
            "C:\\Users\\Public\\Documents\\ESTsoft\\CreatorTemp\\ipykernel_22420\\1039312808.py:3: FutureWarning: The default of observed=False is deprecated and will be changed to True in a future version of pandas. Pass observed=False to retain current behavior or observed=True to adopt the future default and silence this warning.\n",
            "  species_std = df.groupby('species').std()\n"
          ]
        }
      ],
      "source": [
        "# 2번 답안\n",
        "species_mean = df.groupby('species').mean()\n",
        "species_std = df.groupby('species').std()\n",
        "\n",
        "print(\"\\n--- 2번 답안 ---\")\n",
        "print(\"\\n--- 종별 평균 ---\")\n",
        "print(species_mean)\n",
        "print(\"\\n--- 종별 표준편차 ---\")\n",
        "print(species_std)"
      ]
    },
    {
      "cell_type": "markdown",
      "metadata": {
        "id": "ekclg32eCrZ5"
      },
      "source": [
        "### 3. 가장 긴 꽃잎의 길이는?  \n",
        "- 기존: `df['petal_length']` → 모든 꽃잎 길이 확인  \n",
        "- 질문: 그중에서 가장 큰 값 딱 하나만 보려면 어떤 함수를 붙이면 될까요?"
      ]
    },
    {
      "cell_type": "code",
      "execution_count": 43,
      "metadata": {
        "id": "jAYUxEf7Cvsd"
      },
      "outputs": [
        {
          "name": "stdout",
          "output_type": "stream",
          "text": [
            "\n",
            "--- 3번 답안 ---\n"
          ]
        },
        {
          "data": {
            "text/html": [
              "<div>\n",
              "<style scoped>\n",
              "    .dataframe tbody tr th:only-of-type {\n",
              "        vertical-align: middle;\n",
              "    }\n",
              "\n",
              "    .dataframe tbody tr th {\n",
              "        vertical-align: top;\n",
              "    }\n",
              "\n",
              "    .dataframe thead th {\n",
              "        text-align: right;\n",
              "    }\n",
              "</style>\n",
              "<table border=\"1\" class=\"dataframe\">\n",
              "  <thead>\n",
              "    <tr style=\"text-align: right;\">\n",
              "      <th></th>\n",
              "      <th>sepal_length</th>\n",
              "      <th>sepal_width</th>\n",
              "      <th>petal_length</th>\n",
              "      <th>petal_width</th>\n",
              "      <th>species</th>\n",
              "    </tr>\n",
              "  </thead>\n",
              "  <tbody>\n",
              "    <tr>\n",
              "      <th>118</th>\n",
              "      <td>7.7</td>\n",
              "      <td>2.6</td>\n",
              "      <td>6.9</td>\n",
              "      <td>2.3</td>\n",
              "      <td>virginica</td>\n",
              "    </tr>\n",
              "  </tbody>\n",
              "</table>\n",
              "</div>"
            ],
            "text/plain": [
              "     sepal_length  sepal_width  petal_length  petal_width    species\n",
              "118           7.7          2.6           6.9          2.3  virginica"
            ]
          },
          "execution_count": 43,
          "metadata": {},
          "output_type": "execute_result"
        }
      ],
      "source": [
        "# 3번 답안\n",
        "df_max = df['petal_length'].max()\n",
        "\n",
        "print(\"\\n--- 3번 답안 ---\")\n",
        "df.loc[df.petal_length == df_max]\n"
      ]
    },
    {
      "cell_type": "markdown",
      "metadata": {
        "id": "5RcG2eDRCxR5"
      },
      "source": [
        "### 4. 새로운 특징(Feature) 만들기  \n",
        "- 기존: 꽃잎 길이 × 너비 → `'petal_area'` 컬럼 생성  \n",
        "- 질문: 꽃잎 길이 ÷ 꽃잎 너비 → `'petal_ratio'` 컬럼을 만들려면?"
      ]
    },
    {
      "cell_type": "code",
      "execution_count": 44,
      "metadata": {
        "id": "emS6UrLWC0aQ"
      },
      "outputs": [
        {
          "name": "stdout",
          "output_type": "stream",
          "text": [
            "\n",
            "--- petal_ratio 컬럼 생성 ---\n"
          ]
        },
        {
          "data": {
            "text/html": [
              "<div>\n",
              "<style scoped>\n",
              "    .dataframe tbody tr th:only-of-type {\n",
              "        vertical-align: middle;\n",
              "    }\n",
              "\n",
              "    .dataframe tbody tr th {\n",
              "        vertical-align: top;\n",
              "    }\n",
              "\n",
              "    .dataframe thead th {\n",
              "        text-align: right;\n",
              "    }\n",
              "</style>\n",
              "<table border=\"1\" class=\"dataframe\">\n",
              "  <thead>\n",
              "    <tr style=\"text-align: right;\">\n",
              "      <th></th>\n",
              "      <th>sepal_length</th>\n",
              "      <th>sepal_width</th>\n",
              "      <th>petal_length</th>\n",
              "      <th>petal_width</th>\n",
              "      <th>species</th>\n",
              "      <th>petal_area</th>\n",
              "      <th>petal_ratio</th>\n",
              "    </tr>\n",
              "  </thead>\n",
              "  <tbody>\n",
              "    <tr>\n",
              "      <th>0</th>\n",
              "      <td>5.1</td>\n",
              "      <td>3.5</td>\n",
              "      <td>1.4</td>\n",
              "      <td>0.2</td>\n",
              "      <td>setosa</td>\n",
              "      <td>0.28</td>\n",
              "      <td>7.0</td>\n",
              "    </tr>\n",
              "    <tr>\n",
              "      <th>1</th>\n",
              "      <td>4.9</td>\n",
              "      <td>3.0</td>\n",
              "      <td>1.4</td>\n",
              "      <td>0.2</td>\n",
              "      <td>setosa</td>\n",
              "      <td>0.28</td>\n",
              "      <td>7.0</td>\n",
              "    </tr>\n",
              "    <tr>\n",
              "      <th>2</th>\n",
              "      <td>4.7</td>\n",
              "      <td>3.2</td>\n",
              "      <td>1.3</td>\n",
              "      <td>0.2</td>\n",
              "      <td>setosa</td>\n",
              "      <td>0.26</td>\n",
              "      <td>6.5</td>\n",
              "    </tr>\n",
              "    <tr>\n",
              "      <th>3</th>\n",
              "      <td>4.6</td>\n",
              "      <td>3.1</td>\n",
              "      <td>1.5</td>\n",
              "      <td>0.2</td>\n",
              "      <td>setosa</td>\n",
              "      <td>0.30</td>\n",
              "      <td>7.5</td>\n",
              "    </tr>\n",
              "    <tr>\n",
              "      <th>4</th>\n",
              "      <td>5.0</td>\n",
              "      <td>3.6</td>\n",
              "      <td>1.4</td>\n",
              "      <td>0.2</td>\n",
              "      <td>setosa</td>\n",
              "      <td>0.28</td>\n",
              "      <td>7.0</td>\n",
              "    </tr>\n",
              "  </tbody>\n",
              "</table>\n",
              "</div>"
            ],
            "text/plain": [
              "   sepal_length  sepal_width  petal_length  petal_width species  petal_area  \\\n",
              "0           5.1          3.5           1.4          0.2  setosa        0.28   \n",
              "1           4.9          3.0           1.4          0.2  setosa        0.28   \n",
              "2           4.7          3.2           1.3          0.2  setosa        0.26   \n",
              "3           4.6          3.1           1.5          0.2  setosa        0.30   \n",
              "4           5.0          3.6           1.4          0.2  setosa        0.28   \n",
              "\n",
              "   petal_ratio  \n",
              "0          7.0  \n",
              "1          7.0  \n",
              "2          6.5  \n",
              "3          7.5  \n",
              "4          7.0  "
            ]
          },
          "metadata": {},
          "output_type": "display_data"
        }
      ],
      "source": [
        "# 4번 답안\n",
        "df['petal_area'] = df['petal_length'] * df['petal_width']\n",
        "df['petal_ratio'] = df['petal_length'] / df['petal_width']\n",
        "print(\"\\n--- petal_ratio 컬럼 생성 ---\")\n",
        "display(df.head())\n"
      ]
    },
    {
      "cell_type": "markdown",
      "metadata": {
        "id": "waAwphnYC2MH"
      },
      "source": [
        "### 5. 최강자 TOP 5 선발하기  \n",
        "- 기존: `df.head()` → 단순히 위에서 5개 확인  \n",
        "- 질문: **꽃받침 길이(`sepal_length`)** 기준으로 정렬한 뒤, 상위 5개만 보려면?  \n",
        "- 힌트: `sort_values()` + `head()` 조합!\n",
        "- **sort_values()** : 특정 열 기준으로 데이터 정렬 → 예) df.sort_values(by=\"col\", ascending=False)\n",
        "  - **ascending=True** : 오름차순 정렬 (작은 값 → 큰 값, 기본값)      \n",
        "  - **ascending=False** : 내림차순 정렬 (큰 값 → 작은 값)"
      ]
    },
    {
      "cell_type": "code",
      "execution_count": 45,
      "metadata": {
        "id": "Jz9sYG2sC4xa"
      },
      "outputs": [
        {
          "name": "stdout",
          "output_type": "stream",
          "text": [
            "\n",
            "--- 5번 답안 ---\n"
          ]
        },
        {
          "data": {
            "text/html": [
              "<div>\n",
              "<style scoped>\n",
              "    .dataframe tbody tr th:only-of-type {\n",
              "        vertical-align: middle;\n",
              "    }\n",
              "\n",
              "    .dataframe tbody tr th {\n",
              "        vertical-align: top;\n",
              "    }\n",
              "\n",
              "    .dataframe thead th {\n",
              "        text-align: right;\n",
              "    }\n",
              "</style>\n",
              "<table border=\"1\" class=\"dataframe\">\n",
              "  <thead>\n",
              "    <tr style=\"text-align: right;\">\n",
              "      <th></th>\n",
              "      <th>sepal_length</th>\n",
              "      <th>sepal_width</th>\n",
              "      <th>petal_length</th>\n",
              "      <th>petal_width</th>\n",
              "      <th>species</th>\n",
              "      <th>petal_area</th>\n",
              "      <th>petal_ratio</th>\n",
              "    </tr>\n",
              "  </thead>\n",
              "  <tbody>\n",
              "    <tr>\n",
              "      <th>131</th>\n",
              "      <td>7.9</td>\n",
              "      <td>3.8</td>\n",
              "      <td>6.4</td>\n",
              "      <td>2.0</td>\n",
              "      <td>virginica</td>\n",
              "      <td>12.80</td>\n",
              "      <td>3.200000</td>\n",
              "    </tr>\n",
              "    <tr>\n",
              "      <th>122</th>\n",
              "      <td>7.7</td>\n",
              "      <td>2.8</td>\n",
              "      <td>6.7</td>\n",
              "      <td>2.0</td>\n",
              "      <td>virginica</td>\n",
              "      <td>13.40</td>\n",
              "      <td>3.350000</td>\n",
              "    </tr>\n",
              "    <tr>\n",
              "      <th>118</th>\n",
              "      <td>7.7</td>\n",
              "      <td>2.6</td>\n",
              "      <td>6.9</td>\n",
              "      <td>2.3</td>\n",
              "      <td>virginica</td>\n",
              "      <td>15.87</td>\n",
              "      <td>3.000000</td>\n",
              "    </tr>\n",
              "    <tr>\n",
              "      <th>117</th>\n",
              "      <td>7.7</td>\n",
              "      <td>3.8</td>\n",
              "      <td>6.7</td>\n",
              "      <td>2.2</td>\n",
              "      <td>virginica</td>\n",
              "      <td>14.74</td>\n",
              "      <td>3.045455</td>\n",
              "    </tr>\n",
              "    <tr>\n",
              "      <th>135</th>\n",
              "      <td>7.7</td>\n",
              "      <td>3.0</td>\n",
              "      <td>6.1</td>\n",
              "      <td>2.3</td>\n",
              "      <td>virginica</td>\n",
              "      <td>14.03</td>\n",
              "      <td>2.652174</td>\n",
              "    </tr>\n",
              "  </tbody>\n",
              "</table>\n",
              "</div>"
            ],
            "text/plain": [
              "     sepal_length  sepal_width  petal_length  petal_width    species  \\\n",
              "131           7.9          3.8           6.4          2.0  virginica   \n",
              "122           7.7          2.8           6.7          2.0  virginica   \n",
              "118           7.7          2.6           6.9          2.3  virginica   \n",
              "117           7.7          3.8           6.7          2.2  virginica   \n",
              "135           7.7          3.0           6.1          2.3  virginica   \n",
              "\n",
              "     petal_area  petal_ratio  \n",
              "131       12.80     3.200000  \n",
              "122       13.40     3.350000  \n",
              "118       15.87     3.000000  \n",
              "117       14.74     3.045455  \n",
              "135       14.03     2.652174  "
            ]
          },
          "execution_count": 45,
          "metadata": {},
          "output_type": "execute_result"
        }
      ],
      "source": [
        "# 5번 답안\n",
        "print(\"\\n--- 5번 답안 ---\")\n",
        "df.sort_values(by='sepal_length', ascending=False).head()[:5]"
      ]
    }
  ],
  "metadata": {
    "colab": {
      "provenance": []
    },
    "kernelspec": {
      "display_name": "base",
      "language": "python",
      "name": "python3"
    },
    "language_info": {
      "codemirror_mode": {
        "name": "ipython",
        "version": 3
      },
      "file_extension": ".py",
      "mimetype": "text/x-python",
      "name": "python",
      "nbconvert_exporter": "python",
      "pygments_lexer": "ipython3",
      "version": "3.13.5"
    }
  },
  "nbformat": 4,
  "nbformat_minor": 0
}
